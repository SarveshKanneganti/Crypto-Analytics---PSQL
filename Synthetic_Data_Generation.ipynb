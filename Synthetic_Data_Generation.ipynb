{
  "nbformat": 4,
  "nbformat_minor": 0,
  "metadata": {
    "colab": {
      "provenance": [],
      "authorship_tag": "ABX9TyPzIAH0plNlcIwxdDqelgFe",
      "include_colab_link": true
    },
    "kernelspec": {
      "name": "python3",
      "display_name": "Python 3"
    },
    "language_info": {
      "name": "python"
    }
  },
  "cells": [
    {
      "cell_type": "markdown",
      "metadata": {
        "id": "view-in-github",
        "colab_type": "text"
      },
      "source": [
        "<a href=\"https://colab.research.google.com/github/SarveshKanneganti/Crypto-Analytics---PSQL/blob/main/Synthetic_Data_Generation.ipynb\" target=\"_parent\"><img src=\"https://colab.research.google.com/assets/colab-badge.svg\" alt=\"Open In Colab\"/></a>"
      ]
    },
    {
      "cell_type": "code",
      "source": [
        "  pip install pandas numpy faker"
      ],
      "metadata": {
        "colab": {
          "base_uri": "https://localhost:8080/"
        },
        "id": "2MgclpkLDPuZ",
        "outputId": "636f4c9d-b4fe-4132-9001-566a1313cd2e"
      },
      "execution_count": 2,
      "outputs": [
        {
          "output_type": "stream",
          "name": "stdout",
          "text": [
            "Requirement already satisfied: pandas in /usr/local/lib/python3.12/dist-packages (2.2.2)\n",
            "Requirement already satisfied: numpy in /usr/local/lib/python3.12/dist-packages (2.0.2)\n",
            "Collecting faker\n",
            "  Downloading faker-37.8.0-py3-none-any.whl.metadata (15 kB)\n",
            "Requirement already satisfied: python-dateutil>=2.8.2 in /usr/local/lib/python3.12/dist-packages (from pandas) (2.9.0.post0)\n",
            "Requirement already satisfied: pytz>=2020.1 in /usr/local/lib/python3.12/dist-packages (from pandas) (2025.2)\n",
            "Requirement already satisfied: tzdata>=2022.7 in /usr/local/lib/python3.12/dist-packages (from pandas) (2025.2)\n",
            "Requirement already satisfied: six>=1.5 in /usr/local/lib/python3.12/dist-packages (from python-dateutil>=2.8.2->pandas) (1.17.0)\n",
            "Downloading faker-37.8.0-py3-none-any.whl (2.0 MB)\n",
            "\u001b[2K   \u001b[90m━━━━━━━━━━━━━━━━━━━━━━━━━━━━━━━━━━━━━━━━\u001b[0m \u001b[32m2.0/2.0 MB\u001b[0m \u001b[31m13.5 MB/s\u001b[0m eta \u001b[36m0:00:00\u001b[0m\n",
            "\u001b[?25hInstalling collected packages: faker\n",
            "Successfully installed faker-37.8.0\n"
          ]
        }
      ]
    },
    {
      "cell_type": "code",
      "execution_count": 4,
      "metadata": {
        "colab": {
          "base_uri": "https://localhost:8080/"
        },
        "id": "JqgCXfCI9kdk",
        "outputId": "32d53f10-5ee0-4d4b-a5db-422322d4853f"
      },
      "outputs": [
        {
          "output_type": "stream",
          "name": "stdout",
          "text": [
            "Generating members...\n",
            "Saved members -> /content/members_fresh.csv  (5000 rows)\n",
            "Generating prices (OHLCV)...\n",
            "Saved prices  -> /content/prices_fresh.csv  (1825 rows)\n",
            "Generating transactions...\n",
            "Saved transactions -> /content/transactions_fresh.csv  (20000 rows)\n",
            "\n",
            "Done. Files:\n",
            " - /content/members_fresh.csv\n",
            " - /content/prices_fresh.csv\n",
            " - /content/transactions_fresh.csv\n"
          ]
        }
      ],
      "source": [
        "\n",
        "\"\"\"\n",
        "generate_crypto_data.py\n",
        "Generates synthetic CSV datasets:\n",
        " - members_fresh.csv\n",
        " - prices_fresh.csv\n",
        " - transactions_fresh.csv\n",
        "\n",
        "Usage:\n",
        "  pip install pandas numpy faker\n",
        "  python generate_crypto_data.py\n",
        "\"\"\"\n",
        "\n",
        "import random\n",
        "import csv\n",
        "from datetime import datetime, timedelta\n",
        "import pandas as pd\n",
        "import numpy as np\n",
        "from faker import Faker\n",
        "import os\n",
        "\n",
        "# -----------------------\n",
        "# Configuration\n",
        "# -----------------------\n",
        "OUT_DIR = os.path.abspath(\".\")          # output folder (current dir)\n",
        "N_MEMBERS = 5000\n",
        "SYMBOLS = [\"BTC\", \"ETH\", \"XRP\", \"LTC\", \"ADA\"]\n",
        "PRICES_START = \"2023-01-01\"\n",
        "PRICES_END = \"2023-12-31\"\n",
        "TX_COUNT = 20000\n",
        "REGIONS = [\"North America\", \"Europe\", \"Asia\", \"South America\", \"Africa\", \"Oceania\", \"Middle East\"]\n",
        "\n",
        "# Reproducibility\n",
        "SEED = 42\n",
        "random.seed(SEED)\n",
        "np.random.seed(SEED)\n",
        "fake = Faker()\n",
        "Faker.seed(SEED)\n",
        "\n",
        "# -----------------------\n",
        "# 1) Members\n",
        "# -----------------------\n",
        "def generate_members(n=N_MEMBERS):\n",
        "    rows = []\n",
        "    for i in range(1, n+1):\n",
        "        name = fake.name()\n",
        "        region = random.choice(REGIONS)\n",
        "        rows.append({\"member_id\": i, \"name\": name, \"region\": region})\n",
        "    return pd.DataFrame(rows)\n",
        "\n",
        "# -----------------------\n",
        "# 2) Prices (daily OHLCV)\n",
        "# -----------------------\n",
        "def generate_prices(symbols=SYMBOLS, start=PRICES_START, end=PRICES_END):\n",
        "    start_dt = pd.to_datetime(start)\n",
        "    end_dt = pd.to_datetime(end)\n",
        "    days = pd.date_range(start_dt, end_dt, freq=\"D\")\n",
        "    rows = []\n",
        "    # generate a random starting price per symbol\n",
        "    for symbol in symbols:\n",
        "        # choose a plausible starting price (small coins start lower)\n",
        "        base = random.uniform(0.5, 40000)\n",
        "        price = base\n",
        "        for d in days:\n",
        "            # simulate open/high/low/close with small daily volatility\n",
        "            open_p = price * random.uniform(0.985, 1.015)\n",
        "            high_p = open_p * random.uniform(1.0, 1.08)\n",
        "            low_p = open_p * random.uniform(0.92, 1.0)\n",
        "            close_p = random.uniform(low_p, high_p)\n",
        "            volume = random.uniform(1000, 2_000_000)\n",
        "            rows.append({\n",
        "                \"timestamp\": d.strftime(\"%Y-%m-%d\"),\n",
        "                \"symbol\": symbol,\n",
        "                \"open_price\": round(open_p, 2),\n",
        "                \"high_price\": round(high_p, 2),\n",
        "                \"low_price\": round(low_p, 2),\n",
        "                \"close_price\": round(close_p, 2),\n",
        "                \"volume\": round(volume, 2)\n",
        "            })\n",
        "            price = close_p  # next day's base\n",
        "    df = pd.DataFrame(rows)\n",
        "    # Shuffle rows for more realistic loading order (optional)\n",
        "    df = df.sample(frac=1, random_state=SEED).reset_index(drop=True)\n",
        "    return df\n",
        "\n",
        "# -----------------------\n",
        "# 3) Transactions\n",
        "# -----------------------\n",
        "def generate_transactions(prices_df, members_df, n=TX_COUNT):\n",
        "    # convert price times to a list we can sample; embed timestamp with random minute in the day\n",
        "    price_records = prices_df.to_dict(\"records\")\n",
        "    member_ids = members_df[\"member_id\"].tolist()\n",
        "    tx_rows = []\n",
        "    for tx_id in range(1, n+1):\n",
        "        # pick a random price row (gives symbol and close price and date)\n",
        "        pr = random.choice(price_records)\n",
        "        symbol = pr[\"symbol\"]\n",
        "        # make a timestamp by adding random minutes to the date's midnight\n",
        "        base_date = datetime.strptime(pr[\"timestamp\"], \"%Y-%m-%d\")\n",
        "        tx_ts = base_date + timedelta(minutes=random.randint(0, 23*60+59))\n",
        "        member_id = random.choice(member_ids)\n",
        "        side = \"BUY\" if random.random() < 0.55 else \"SELL\"\n",
        "        quantity = round(random.uniform(0.01, 5.0), 6)\n",
        "        price = round(pr[\"close_price\"], 2)\n",
        "        fee = round(price * quantity * random.uniform(0.0005, 0.002), 6)\n",
        "        tx_rows.append({\n",
        "            \"tx_id\": tx_id,\n",
        "            \"member_id\": member_id,\n",
        "            \"symbol\": symbol,\n",
        "            \"tx_timestamp\": tx_ts.strftime(\"%Y-%m-%d %H:%M:%S\"),\n",
        "            \"side\": side,\n",
        "            \"quantity\": quantity,\n",
        "            \"price\": price,\n",
        "            \"fee\": fee\n",
        "        })\n",
        "    return pd.DataFrame(tx_rows)\n",
        "\n",
        "# -----------------------\n",
        "# Run generation and save CSVs\n",
        "# -----------------------\n",
        "def main():\n",
        "    print(\"Generating members...\")\n",
        "    members_df = generate_members()\n",
        "    members_csv = os.path.join(OUT_DIR, \"members_fresh.csv\")\n",
        "    members_df.to_csv(members_csv, index=False)\n",
        "    print(f\"Saved members -> {members_csv}  ({len(members_df)} rows)\")\n",
        "\n",
        "    print(\"Generating prices (OHLCV)...\")\n",
        "    prices_df = generate_prices()\n",
        "    prices_csv = os.path.join(OUT_DIR, \"prices_fresh.csv\")\n",
        "    prices_df.to_csv(prices_csv, index=False)\n",
        "    print(f\"Saved prices  -> {prices_csv}  ({len(prices_df)} rows)\")\n",
        "\n",
        "    print(\"Generating transactions...\")\n",
        "    tx_df = generate_transactions(prices_df, members_df)\n",
        "    transactions_csv = os.path.join(OUT_DIR, \"transactions_fresh.csv\")\n",
        "    tx_df.to_csv(transactions_csv, index=False)\n",
        "    print(f\"Saved transactions -> {transactions_csv}  ({len(tx_df)} rows)\")\n",
        "\n",
        "    print(\"\\nDone. Files:\")\n",
        "    print(f\" - {members_csv}\")\n",
        "    print(f\" - {prices_csv}\")\n",
        "    print(f\" - {transactions_csv}\")\n",
        "\n",
        "if __name__ == \"__main__\":\n",
        "    main()\n"
      ]
    },
    {
      "cell_type": "code",
      "source": [
        "from google.colab import files\n",
        "\n",
        "files.download('/content/members_fresh.csv')\n",
        "files.download('/content/prices_fresh.csv')\n",
        "files.download('/content/transactions_fresh.csv')"
      ],
      "metadata": {
        "id": "x9PCQE3LXSNu"
      },
      "execution_count": null,
      "outputs": []
    }
  ]
}